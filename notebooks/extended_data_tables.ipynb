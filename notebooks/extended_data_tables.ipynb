{
 "cells": [
  {
   "cell_type": "code",
   "execution_count": 16,
   "metadata": {},
   "outputs": [],
   "source": [
    "import pandas as pd\n",
    "import numpy as np\n",
    "import os\n",
    "from sklearn import metrics\n",
    "\n",
    "import sys\n",
    "sys.path.append(\"../src\")\n",
    "from plotting import hit_enrichment\n",
    "\n",
    "DATAPATH =\"../data\"\n",
    "SMILES = \"CAN_SMILES\""
   ]
  },
  {
   "cell_type": "code",
   "execution_count": 3,
   "metadata": {},
   "outputs": [],
   "source": [
    "assays = ['nf54','k1', 'mtb', 'cho', 'hepg2','clintH', 'clintM', 'clintR', 'caco', 'sol', \n",
    "          'herg', \"cyp2c9\", \"cyp2c19\", 'cyp3a4', 'cyp2d6',]"
   ]
  },
  {
   "cell_type": "code",
   "execution_count": 4,
   "metadata": {},
   "outputs": [],
   "source": [
    "assays_fold5 =  {\n",
    "        \"nf54\":[pd.read_csv(os.path.join(DATAPATH, \"dotmatics\", \"random_splits\",\"nf54_test_5.csv\")),\n",
    "            pd.read_csv(os.path.join(DATAPATH, \"predictions\", \"zairachem\", \"random_splits\",\"output_nf54_test_5.csv\"))],\n",
    "        \"k1\":[pd.read_csv(os.path.join(DATAPATH, \"dotmatics\", \"random_splits\",\"k1_test_5.csv\")),\n",
    "            pd.read_csv(os.path.join(DATAPATH, \"predictions\", \"zairachem\", \"random_splits\",\"output_k1_test_5.csv\"))],\n",
    "        \"pi4kb\":[pd.read_csv(os.path.join(DATAPATH, \"dotmatics\", \"random_splits\",\"pi4kb_test_5.csv\")),\n",
    "            pd.read_csv(os.path.join(DATAPATH, \"predictions\", \"zairachem\", \"random_splits\",\"output_pi4kb_test_5.csv\"))],\n",
    "        \"mtb\":[pd.read_csv(os.path.join(DATAPATH, \"dotmatics\", \"random_splits\",\"mtb_test_5.csv\")),\n",
    "            pd.read_csv(os.path.join(DATAPATH, \"predictions\", \"zairachem\", \"random_splits\",\"output_mtb_test_5.csv\"))],\n",
    "        \"cho\":[pd.read_csv(os.path.join(DATAPATH, \"dotmatics\", \"random_splits\",\"cho_test_5.csv\")),\n",
    "            pd.read_csv(os.path.join(DATAPATH, \"predictions\", \"zairachem\", \"random_splits\",\"output_cho_test_5.csv\"))],\n",
    "        \"hepg2\":[pd.read_csv(os.path.join(DATAPATH, \"dotmatics\", \"random_splits\",\"hepg2_test_5.csv\")),\n",
    "            pd.read_csv(os.path.join(DATAPATH, \"predictions\", \"zairachem\", \"random_splits\",\"output_hepg2_test_5.csv\"))],\n",
    "        \"clintH\":[pd.read_csv(os.path.join(DATAPATH, \"dotmatics\", \"random_splits\",\"clintH_test_5.csv\")),\n",
    "            pd.read_csv(os.path.join(DATAPATH, \"predictions\", \"zairachem\", \"random_splits\",\"output_clintH_test_5.csv\"))],\n",
    "        \"clintM\": [pd.read_csv(os.path.join(DATAPATH, \"dotmatics\", \"random_splits\",\"clintM_test_5.csv\")),\n",
    "            pd.read_csv(os.path.join(DATAPATH, \"predictions\", \"zairachem\", \"random_splits\",\"output_clintM_test_5.csv\"))],\n",
    "        \"clintR\": [pd.read_csv(os.path.join(DATAPATH, \"dotmatics\", \"random_splits\",\"clintR_test_5.csv\")),\n",
    "            pd.read_csv(os.path.join(DATAPATH, \"predictions\", \"zairachem\", \"random_splits\",\"output_clintR_test_5.csv\"))],\n",
    "        \"caco\":[pd.read_csv(os.path.join(DATAPATH, \"dotmatics\", \"random_splits\",\"caco_test_5.csv\")),\n",
    "            pd.read_csv(os.path.join(DATAPATH, \"predictions\", \"zairachem\", \"random_splits\",\"output_caco_test_5.csv\"))],\n",
    "        \"sol\":[pd.read_csv(os.path.join(DATAPATH, \"dotmatics\", \"random_splits\",\"sol_test_5.csv\")),\n",
    "            pd.read_csv(os.path.join(DATAPATH, \"predictions\", \"zairachem\", \"random_splits\",\"output_sol_test_5.csv\"))],\n",
    "        \"cyp3a4\":[pd.read_csv(os.path.join(DATAPATH, \"dotmatics\", \"full_datasets\",\"cyp3a4.csv\")), \n",
    "                pd.read_csv(os.path.join(DATAPATH, \"predictions\",\"zairachem\", \"full\",\"output_cyp3a4_subset.csv\"))],\n",
    "        \"cyp2d6\":[pd.read_csv(os.path.join(DATAPATH, \"dotmatics\", \"full_datasets\",\"cyp2d6.csv\")), \n",
    "                pd.read_csv(os.path.join(DATAPATH, \"predictions\",\"zairachem\", \"full\",\"output_cyp2d6_subset.csv\"))],\n",
    "        \"cyp2c9\":[pd.read_csv(os.path.join(DATAPATH, \"dotmatics\", \"full_datasets\",\"cyp2c9.csv\")), \n",
    "                pd.read_csv(os.path.join(DATAPATH, \"predictions\",\"zairachem\", \"full\",\"output_cyp2c9_subset.csv\"))],\n",
    "        \"cyp2c19\":[pd.read_csv(os.path.join(DATAPATH, \"dotmatics\", \"full_datasets\",\"cyp2c19.csv\")), \n",
    "                pd.read_csv(os.path.join(DATAPATH, \"predictions\",\"zairachem\", \"full\",\"output_cyp2c19_subset.csv\"))],\n",
    "        \"herg\":[pd.read_csv(os.path.join(DATAPATH, \"dotmatics\", \"full_datasets\", \"herg.csv\")),\n",
    "            pd.read_csv(os.path.join(DATAPATH, \"predictions\", \"eos_models\", \"herg_eos2ta5.csv\"))]\n",
    "        }\n",
    "#rename herg so it has same output column name\n",
    "assays_fold5[\"herg\"][1].rename(columns={\"probability\":\"clf_ex1\"}, inplace=True)"
   ]
  },
  {
   "cell_type": "code",
   "execution_count": 11,
   "metadata": {},
   "outputs": [
    {
     "name": "stdout",
     "output_type": "stream",
     "text": [
      "{'nf54': 3289, 'k1': 1425, 'mtb': 3244, 'cho': 2029, 'hepg2': 1457, 'clintH': 1430, 'clintM': 1165, 'clintR': 1202, 'caco': 134, 'sol': 3227, 'herg': 12620, 'cyp2c9': 16379, 'cyp2c19': 15511, 'cyp3a4': 21810, 'cyp2d6': 17812}\n"
     ]
    }
   ],
   "source": [
    "# Table 1: Total molecules in each assay\n",
    "total_mols = {}\n",
    "for a in assays:\n",
    "    if a == \"herg\":\n",
    "        n_mols =  12620 #from publication\n",
    "        total_mols[a] = n_mols\n",
    "    elif \"cyp\" in a:\n",
    "        df = pd.read_csv(os.path.join(DATAPATH, \"external\", \"processed\", \"cyp_all_{}.csv\".format(a)))\n",
    "        n_mols = len(df)\n",
    "        total_mols[a] = n_mols\n",
    "    else:\n",
    "        df = pd.read_csv(os.path.join(DATAPATH, \"dotmatics\", \"full_datasets\", \"{}.csv\".format(a)))\n",
    "        n_mols = len(df)\n",
    "        total_mols[a] = n_mols\n",
    "print(total_mols)"
   ]
  },
  {
   "cell_type": "code",
   "execution_count": 43,
   "metadata": {},
   "outputs": [
    {
     "name": "stdout",
     "output_type": "stream",
     "text": [
      "{'nf54': [0.915, 0.02], 'k1': [0.853, 0.022], 'mtb': [0.901, 0.036], 'cho': [0.845, 0.032], 'hepg2': [0.973, 0.01], 'clintH': [0.794, 0.027], 'clintM': [0.782, 0.056], 'clintR': [0.79, 0.033], 'caco': [0.951, 0.042], 'sol': [0.888, 0.019], 'herg': [0.852, 0.014], 'cyp2c9': [0.761, 0.035], 'cyp2c19': [0.542, 0.035], 'cyp3a4': [0.715, 0.07], 'cyp2d6': [0.681, 0.035]}\n"
     ]
    }
   ],
   "source": [
    "# Table 2: AUROCS \n",
    "all_aucs = {}\n",
    "for a in assays:\n",
    "    if a == \"herg\":\n",
    "        assay = \"herg\"\n",
    "        probacol = \"probability\"\n",
    "        model_io = {\n",
    "            \"fold1\": [pd.read_csv(os.path.join(DATAPATH, \"dotmatics\", \"random_splits\",\"{0}_train_1.csv\".format(assay))), \n",
    "                    pd.read_csv(os.path.join(DATAPATH, \"predictions\",\"eos_models\", \"eos2ta5_{0}_train_1.csv\".format(assay)))],\n",
    "            \"fold2\": [pd.read_csv(os.path.join(DATAPATH, \"dotmatics\", \"random_splits\",\"{0}_train_2.csv\".format(assay))), \n",
    "                    pd.read_csv(os.path.join(DATAPATH, \"predictions\",\"eos_models\",\"eos2ta5_{0}_train_2.csv\".format(assay)))],\n",
    "            \"fold3\": [pd.read_csv(os.path.join(DATAPATH, \"dotmatics\", \"random_splits\",\"{0}_train_3.csv\".format(assay))), \n",
    "                    pd.read_csv(os.path.join(DATAPATH, \"predictions\",\"eos_models\",\"eos2ta5_{0}_train_3.csv\".format(assay)))],\n",
    "            \"fold4\": [pd.read_csv(os.path.join(DATAPATH, \"dotmatics\", \"random_splits\",\"{0}_train_4.csv\".format(assay))), \n",
    "                    pd.read_csv(os.path.join(DATAPATH, \"predictions\",\"eos_models\",\"eos2ta5_{0}_train_4.csv\".format(assay)))],\n",
    "            \"fold5\": [pd.read_csv(os.path.join(DATAPATH, \"dotmatics\", \"random_splits\",\"{0}_train_5.csv\".format(assay))), \n",
    "                    pd.read_csv(os.path.join(DATAPATH, \"predictions\",\"eos_models\",\"eos2ta5_{0}_train_5.csv\".format(assay)))],\n",
    "            }\n",
    "    elif \"cyp\" in a:\n",
    "        assay = a\n",
    "        probacol = \"clf_ex1\"\n",
    "        model_io = {\n",
    "        \"fold1\": [pd.read_csv(os.path.join(DATAPATH, \"dotmatics\", \"random_splits\",\"{0}_train_1.csv\".format(assay))), \n",
    "                pd.read_csv(os.path.join(DATAPATH, \"predictions\",\"zairachem\", \"random_splits\",\"output_{0}_train_1.csv\".format(assay)))],\n",
    "        \"fold2\": [pd.read_csv(os.path.join(DATAPATH, \"dotmatics\", \"random_splits\",\"{0}_train_2.csv\".format(assay))), \n",
    "                pd.read_csv(os.path.join(DATAPATH, \"predictions\",\"zairachem\", \"random_splits\",\"output_{0}_train_2.csv\".format(assay)))],\n",
    "        \"fold3\": [pd.read_csv(os.path.join(DATAPATH, \"dotmatics\", \"random_splits\",\"{0}_train_3.csv\".format(assay))), \n",
    "                pd.read_csv(os.path.join(DATAPATH, \"predictions\",\"zairachem\", \"random_splits\",\"output_{0}_train_3.csv\".format(assay)))],\n",
    "        \"fold4\": [pd.read_csv(os.path.join(DATAPATH, \"dotmatics\", \"random_splits\",\"{0}_train_4.csv\".format(assay))), \n",
    "                pd.read_csv(os.path.join(DATAPATH, \"predictions\",\"zairachem\", \"random_splits\",\"output_{0}_train_4.csv\".format(assay)))],\n",
    "        \"fold5\": [pd.read_csv(os.path.join(DATAPATH, \"dotmatics\", \"random_splits\",\"{0}_train_5.csv\".format(assay))), \n",
    "                pd.read_csv(os.path.join(DATAPATH, \"predictions\",\"zairachem\", \"random_splits\",\"output_{0}_train_5.csv\".format(assay)))],\n",
    "        }\n",
    "    else:\n",
    "        assay = a\n",
    "        probacol=\"clf_ex1\"\n",
    "        model_io = {\n",
    "        \"fold1\": [pd.read_csv(os.path.join(DATAPATH, \"dotmatics\", \"random_splits\",\"{0}_test_1.csv\".format(assay))), \n",
    "                pd.read_csv(os.path.join(DATAPATH, \"predictions\",\"zairachem\", \"random_splits\",\"output_{0}_test_1.csv\".format(assay)))],\n",
    "        \"fold2\": [pd.read_csv(os.path.join(DATAPATH, \"dotmatics\", \"random_splits\",\"{0}_test_2.csv\".format(assay))), \n",
    "                pd.read_csv(os.path.join(DATAPATH, \"predictions\",\"zairachem\", \"random_splits\",\"output_{0}_test_2.csv\".format(assay)))],\n",
    "        \"fold3\": [pd.read_csv(os.path.join(DATAPATH, \"dotmatics\", \"random_splits\",\"{0}_test_3.csv\".format(assay))), \n",
    "                pd.read_csv(os.path.join(DATAPATH, \"predictions\",\"zairachem\", \"random_splits\",\"output_{0}_test_3.csv\".format(assay)))],\n",
    "        \"fold4\": [pd.read_csv(os.path.join(DATAPATH, \"dotmatics\", \"random_splits\",\"{0}_test_4.csv\".format(assay))), \n",
    "                pd.read_csv(os.path.join(DATAPATH, \"predictions\",\"zairachem\", \"random_splits\",\"output_{0}_test_4.csv\".format(assay)))],\n",
    "        \"fold5\": [pd.read_csv(os.path.join(DATAPATH, \"dotmatics\", \"random_splits\",\"{0}_test_5.csv\".format(assay))), \n",
    "                pd.read_csv(os.path.join(DATAPATH, \"predictions\",\"zairachem\", \"random_splits\",\"output_{0}_test_5.csv\".format(assay)))],\n",
    "        }\n",
    "\n",
    "    #interpolate roc curves from the random split folds\n",
    "    tprs = []\n",
    "    aucs = []\n",
    "    mean_fpr = np.linspace(0,1,100)\n",
    "    for k,v in model_io.items():\n",
    "        yt = v[0][\"bin\"]\n",
    "        proba1 = v[1][probacol]\n",
    "        fpr, tpr, _ = metrics.roc_curve(yt, proba1)\n",
    "        roc_auc = metrics.roc_auc_score(yt, proba1)\n",
    "        interp_tpr = np.interp(mean_fpr, fpr, tpr)\n",
    "        interp_tpr[0] = 0.0\n",
    "        tprs.append(interp_tpr)\n",
    "        aucs.append(roc_auc)\n",
    "\n",
    "    mean_tpr = np.mean(tprs, axis=0)\n",
    "    mean_tpr[-1] = 1.0\n",
    "    mean_auc = metrics.auc(mean_fpr, mean_tpr)\n",
    "    std_auc = np.std(aucs)\n",
    "    all_aucs[a] = [np.round(mean_auc, 3), np.round(std_auc,3)]\n",
    "\n",
    "print(all_aucs)\n"
   ]
  },
  {
   "cell_type": "code",
   "execution_count": 21,
   "metadata": {},
   "outputs": [
    {
     "data": {
      "text/html": [
       "<div>\n",
       "<style scoped>\n",
       "    .dataframe tbody tr th:only-of-type {\n",
       "        vertical-align: middle;\n",
       "    }\n",
       "\n",
       "    .dataframe tbody tr th {\n",
       "        vertical-align: top;\n",
       "    }\n",
       "\n",
       "    .dataframe thead th {\n",
       "        text-align: right;\n",
       "    }\n",
       "</style>\n",
       "<table border=\"1\" class=\"dataframe\">\n",
       "  <thead>\n",
       "    <tr style=\"text-align: right;\">\n",
       "      <th></th>\n",
       "      <th>compound_id</th>\n",
       "      <th>smiles</th>\n",
       "      <th>clf_ex1</th>\n",
       "      <th>clf_ex1_bin</th>\n",
       "    </tr>\n",
       "  </thead>\n",
       "  <tbody>\n",
       "    <tr>\n",
       "      <th>0</th>\n",
       "      <td>CID120</td>\n",
       "      <td>Cn1c(N2CCNCC2)nc2ccccc21</td>\n",
       "      <td>0.064630</td>\n",
       "      <td>0.0</td>\n",
       "    </tr>\n",
       "    <tr>\n",
       "      <th>1</th>\n",
       "      <td>CID273</td>\n",
       "      <td>CCOC(=O)C12CCCN(C(=O)OCc3ccccc3)CC1CN(Cc1ccccc...</td>\n",
       "      <td>0.066616</td>\n",
       "      <td>0.0</td>\n",
       "    </tr>\n",
       "    <tr>\n",
       "      <th>2</th>\n",
       "      <td>CID265</td>\n",
       "      <td>CS(=O)(=O)c1ccc(-c2cnn3c2NC(c2cccc(S(=O)(=O)C4...</td>\n",
       "      <td>0.621649</td>\n",
       "      <td>1.0</td>\n",
       "    </tr>\n",
       "    <tr>\n",
       "      <th>3</th>\n",
       "      <td>CID190</td>\n",
       "      <td>NC(=O)c1cccc(-c2nc3c(NCCNc4ccccn4)nccc3[nH]2)c1</td>\n",
       "      <td>0.402024</td>\n",
       "      <td>0.0</td>\n",
       "    </tr>\n",
       "    <tr>\n",
       "      <th>4</th>\n",
       "      <td>CID016</td>\n",
       "      <td>COc1ccc(-c2cc(-c3ccc(S(C)(=O)=O)cc3)cnc2NCCCCN...</td>\n",
       "      <td>0.236036</td>\n",
       "      <td>0.0</td>\n",
       "    </tr>\n",
       "  </tbody>\n",
       "</table>\n",
       "</div>"
      ],
      "text/plain": [
       "  compound_id                                             smiles   clf_ex1  \\\n",
       "0      CID120                           Cn1c(N2CCNCC2)nc2ccccc21  0.064630   \n",
       "1      CID273  CCOC(=O)C12CCCN(C(=O)OCc3ccccc3)CC1CN(Cc1ccccc...  0.066616   \n",
       "2      CID265  CS(=O)(=O)c1ccc(-c2cnn3c2NC(c2cccc(S(=O)(=O)C4...  0.621649   \n",
       "3      CID190    NC(=O)c1cccc(-c2nc3c(NCCNc4ccccn4)nccc3[nH]2)c1  0.402024   \n",
       "4      CID016  COc1ccc(-c2cc(-c3ccc(S(C)(=O)=O)cc3)cnc2NCCCCN...  0.236036   \n",
       "\n",
       "   clf_ex1_bin  \n",
       "0          0.0  \n",
       "1          0.0  \n",
       "2          1.0  \n",
       "3          0.0  \n",
       "4          0.0  "
      ]
     },
     "execution_count": 21,
     "metadata": {},
     "output_type": "execute_result"
    }
   ],
   "source": [
    "assays_fold5[\"nf54\"][1].head()"
   ]
  },
  {
   "cell_type": "code",
   "execution_count": 44,
   "metadata": {},
   "outputs": [],
   "source": [
    "# Table 3 Hit enrichments\n",
    "hit_enr = {}\n",
    "perc_only = {}\n",
    "for a in assays:\n",
    "    v = assays_fold5[a]\n",
    "    v[1][\"bin\"] = v[0][\"bin\"] #add real outcome binarized\n",
    "    if len(v[1])>= 50:\n",
    "        pos_prop = len(v[1][v[1][\"bin\"]==1])/len(v[1])\n",
    "        total_pos = int(50*pos_prop)\n",
    "        idxs = [int(x) for x in np.linspace(0,49,total_pos)]\n",
    "        x = np.zeros(50)\n",
    "        x[idxs] = 1\n",
    "        random = x.tolist()\n",
    "        random_pos = np.sum(random)\n",
    "\n",
    "        neg_prop = len(v[1][v[1][\"bin\"]==0])/len(v[1])\n",
    "        total_neg = int(50*neg_prop)\n",
    "        idxs = [int(x) for x in np.linspace(0,49,total_neg)]\n",
    "        x = np.zeros(50)\n",
    "        x[idxs] = 1\n",
    "        random = x.tolist()\n",
    "        random_neg = np.sum(random)\n",
    "\n",
    "        ranked_top = v[1].sort_values(\"clf_ex1\")[-50:]\n",
    "        top_pos = np.sum(ranked_top[\"bin\"].tolist())\n",
    "\n",
    "        ranked_bot = v[1].sort_values(\"clf_ex1\", ascending=False)[-50:]\n",
    "        bot_pos = np.sum(ranked_bot[\"bin\"].tolist())\n",
    "        bot_neg = 50-bot_pos\n",
    "\n",
    "        top_enr_perc = (top_pos) - (random_pos) / 50\n",
    "        bot_enr_perc = (bot_neg) - (random_neg) / 50\n",
    "\n",
    "        hit_enr[a] = [random_pos, top_pos, bot_pos, top_enr_perc, random_neg, bot_neg,  bot_enr_perc]\n",
    "        perc_only[a] = [ top_enr_perc,bot_enr_perc]\n",
    "\n",
    "    "
   ]
  },
  {
   "cell_type": "code",
   "execution_count": 46,
   "metadata": {},
   "outputs": [
    {
     "data": {
      "text/plain": [
       "{'nf54': [10.0, 42, 0, 41.8, 39.0, 50, 49.22],\n",
       " 'k1': [11.0, 24, 2, 23.78, 38.0, 48, 47.24],\n",
       " 'mtb': [8.0, 38, 2, 37.84, 41.0, 48, 47.18],\n",
       " 'cho': [8.0, 23, 0, 22.84, 41.0, 50, 49.18],\n",
       " 'hepg2': [20.0, 48, 0, 47.6, 29.0, 50, 49.42],\n",
       " 'clintH': [25.0, 43, 10, 42.5, 24.0, 40, 39.52],\n",
       " 'clintM': [30.0, 38, 20, 37.4, 19.0, 30, 29.62],\n",
       " 'clintR': [29.0, 41, 14, 40.42, 20.0, 36, 35.6],\n",
       " 'sol': [27.0, 50, 2, 49.46, 22.0, 48, 47.56],\n",
       " 'herg': [32.0, 46, 10, 45.36, 17.0, 40, 39.66],\n",
       " 'cyp2c9': [9.0, 11, 6, 10.82, 40.0, 44, 43.2],\n",
       " 'cyp2c19': [12.0, 13, 13, 12.76, 37.0, 37, 36.26],\n",
       " 'cyp3a4': [8.0, 10, 5, 9.84, 41.0, 45, 44.18],\n",
       " 'cyp2d6': [8.0, 10, 7, 9.84, 41.0, 43, 42.18]}"
      ]
     },
     "execution_count": 46,
     "metadata": {},
     "output_type": "execute_result"
    }
   ],
   "source": [
    "hit_enr"
   ]
  },
  {
   "cell_type": "code",
   "execution_count": 45,
   "metadata": {},
   "outputs": [
    {
     "data": {
      "text/plain": [
       "{'nf54': [41.8, 49.22],\n",
       " 'k1': [23.78, 47.24],\n",
       " 'mtb': [37.84, 47.18],\n",
       " 'cho': [22.84, 49.18],\n",
       " 'hepg2': [47.6, 49.42],\n",
       " 'clintH': [42.5, 39.52],\n",
       " 'clintM': [37.4, 29.62],\n",
       " 'clintR': [40.42, 35.6],\n",
       " 'sol': [49.46, 47.56],\n",
       " 'herg': [45.36, 39.66],\n",
       " 'cyp2c9': [10.82, 43.2],\n",
       " 'cyp2c19': [12.76, 36.26],\n",
       " 'cyp3a4': [9.84, 44.18],\n",
       " 'cyp2d6': [9.84, 42.18]}"
      ]
     },
     "execution_count": 45,
     "metadata": {},
     "output_type": "execute_result"
    }
   ],
   "source": [
    "perc_only"
   ]
  },
  {
   "cell_type": "code",
   "execution_count": 14,
   "metadata": {},
   "outputs": [
    {
     "name": "stdout",
     "output_type": "stream",
     "text": [
      "329\n",
      "33\n",
      "325\n",
      "32\n"
     ]
    }
   ],
   "source": [
    "# Hit enrichments over 100 molecules for text\n",
    "hit_enr = {}\n",
    "perc_only = {}\n",
    "for a in [\"nf54\", \"mtb\"]:\n",
    "    v = assays_fold5[a]\n",
    "    v[1][\"bin\"] = v[0][\"bin\"] #add real outcome binarized\n",
    "    print(len(v[1]))\n",
    "    tenperc = round(len(v[1])*10/100)\n",
    "    print(tenperc)\n",
    "    pos_prop = len(v[1][v[1][\"bin\"]==1])/len(v[1])\n",
    "    total_pos = int(tenperc*pos_prop)\n",
    "    idxs = [int(x) for x in np.linspace(0,tenperc-1,total_pos)]\n",
    "    x = np.zeros(tenperc)\n",
    "    x[idxs] = 1\n",
    "    random = x.tolist()\n",
    "    random_pos = np.sum(random)\n",
    "\n",
    "    neg_prop = len(v[1][v[1][\"bin\"]==0])/len(v[1])\n",
    "    total_neg = int(tenperc*neg_prop)\n",
    "    idxs = [int(x) for x in np.linspace(0,tenperc-1,total_neg)]\n",
    "    x = np.zeros(tenperc)\n",
    "    x[idxs] = 1\n",
    "    random = x.tolist()\n",
    "    random_neg = np.sum(random)\n",
    "\n",
    "    ranked_top = v[1].sort_values(\"clf_ex1\")[-(tenperc):]\n",
    "    top_pos = np.sum(ranked_top[\"bin\"].tolist())\n",
    "\n",
    "    ranked_bot = v[1].sort_values(\"clf_ex1\", ascending=False)[-(tenperc):]\n",
    "    bot_pos = np.sum(ranked_bot[\"bin\"].tolist())\n",
    "    bot_neg = tenperc-bot_pos\n",
    "\n",
    "    top_enr_perc = (top_pos) - (random_pos) / tenperc\n",
    "    bot_enr_perc = (bot_neg) - (random_neg) / tenperc\n",
    "\n",
    "    hit_enr[a] = [random_pos, top_pos, bot_pos, top_enr_perc, random_neg, bot_neg,  bot_enr_perc]\n",
    "    perc_only[a] = [ top_enr_perc,bot_enr_perc]"
   ]
  },
  {
   "cell_type": "code",
   "execution_count": 15,
   "metadata": {},
   "outputs": [
    {
     "data": {
      "text/plain": [
       "{'nf54': [7.0, 30, 0, 29.78787878787879, 25.0, 33, 32.24242424242424],\n",
       " 'mtb': [5.0, 26, 1, 25.84375, 26.0, 31, 30.1875]}"
      ]
     },
     "execution_count": 15,
     "metadata": {},
     "output_type": "execute_result"
    }
   ],
   "source": [
    "hit_enr"
   ]
  },
  {
   "cell_type": "code",
   "execution_count": 21,
   "metadata": {},
   "outputs": [],
   "source": [
    "# EOS2GTH (MAIP Malaria surrogate)\n",
    "from sklearn import metrics\n",
    "preds= pd.read_csv(os.path.join(DATAPATH, \"predictions\", \"eos_models\",\"nf54_eos2gth.csv\"))\n",
    "real = pd.read_csv(os.path.join(DATAPATH, \"dotmatics\", \"full_datasets\", \"nf54.csv\"))"
   ]
  },
  {
   "cell_type": "code",
   "execution_count": 27,
   "metadata": {},
   "outputs": [
    {
     "name": "stdout",
     "output_type": "stream",
     "text": [
      "0.7397554776201356\n"
     ]
    }
   ],
   "source": [
    "yt = real[\"bin\"]\n",
    "yp = preds[\"score\"]\n",
    "\n",
    "fpr, tpr, _ = metrics.roc_curve(yt, yp)\n",
    "auroc = metrics.roc_auc_score(yt, yp)\n",
    "print(auroc)"
   ]
  },
  {
   "cell_type": "code",
   "execution_count": 26,
   "metadata": {},
   "outputs": [
    {
     "data": {
      "text/plain": [
       "[<matplotlib.lines.Line2D at 0x7efe8458ea10>]"
      ]
     },
     "execution_count": 26,
     "metadata": {},
     "output_type": "execute_result"
    },
    {
     "data": {
      "image/png": "[encoded data removed]",
      "text/plain": [
       "<Figure size 432x288 with 1 Axes>"
      ]
     },
     "metadata": {},
     "output_type": "display_data"
    }
   ],
   "source": [
    "import matplotlib.pyplot as plt\n",
    "plt.plot(fpr, tpr)"
   ]
  },
  {
   "cell_type": "code",
   "execution_count": null,
   "metadata": {},
   "outputs": [],
   "source": []
  }
 ],
 "metadata": {
  "kernelspec": {
   "display_name": "Python 3.7.11 ('chemistry')",
   "language": "python",
   "name": "python3"
  },
  "language_info": {
   "codemirror_mode": {
    "name": "ipython",
    "version": 3
   },
   "file_extension": ".py",
   "mimetype": "text/x-python",
   "name": "python",
   "nbconvert_exporter": "python",
   "pygments_lexer": "ipython3",
   "version": "3.7.11"
  },
  "orig_nbformat": 4,
  "vscode": {
   "interpreter": {
    "hash": "a5ba2f1452682855ccf4135cb16ab3fe285c3388d1e3e2e119f7a866d80e2677"
   }
  }
 },
 "nbformat": 4,
 "nbformat_minor": 2
}
