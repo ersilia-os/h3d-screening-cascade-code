{
 "cells": [
  {
   "cell_type": "code",
   "execution_count": 1,
   "id": "1c2b84ea",
   "metadata": {},
   "outputs": [],
   "source": [
    "import os\n",
    "import math\n",
    "import pandas as pd\n",
    "import numpy as np\n",
    "\n",
    "\n",
    "import matplotlib.pyplot as plt\n",
    "\n",
    "import stylia as st\n",
    "from stylia import TWO_COLUMNS_WIDTH"
   ]
  },
  {
   "cell_type": "code",
   "execution_count": 2,
   "id": "1937a8a6",
   "metadata": {},
   "outputs": [],
   "source": [
    "#import colors from stylia\n",
    "import random\n",
    "cmap = ['#5F4690','#1D6996','#38A6A5', '#0F8554','#73AF48','#EDAD08','#E17C05','#CC503E','#94346E']\n",
    "random.shuffle(cmap)\n",
    "#cmap_1 = cmap[:4]\n",
    "#cmap_2 = cmap[-6:]\n",
    "\n",
    "#Fix the color map from a good random combination for reproducibility\n",
    "cmap_1 = ['#E17C05', '#5F4690', '#CC503E', '#1D6996', '#0F8554']\n",
    "cmap_2 = ['#73AF48', '#EDAD08', '#38A6A5',  '#94346E']"
   ]
  },
  {
   "cell_type": "code",
   "execution_count": 3,
   "id": "fea690f4",
   "metadata": {},
   "outputs": [],
   "source": [
    "assay_name={\"nf54\": \"Pf NF54\", \"mtb\": \"Mtb H37Rv\"}"
   ]
  },
  {
   "cell_type": "markdown",
   "id": "ea47a11c",
   "metadata": {},
   "source": [
    "### Import functions"
   ]
  },
  {
   "cell_type": "code",
   "execution_count": 4,
   "id": "fe3af2fd",
   "metadata": {},
   "outputs": [],
   "source": [
    "import sys \n",
    "sys.path.append(\"../src\")\n",
    "\n",
    "from series_split import PCA_UMAP_preprocess, cross_val_data\n",
    "from pca_umap import PCA_plot, UMAP_plot, training_points, auroc_improvement"
   ]
  },
  {
   "cell_type": "markdown",
   "id": "8d7157c0",
   "metadata": {},
   "source": [
    "# Plot Individual Figures"
   ]
  },
  {
   "cell_type": "code",
   "execution_count": 9,
   "id": "d26565fb",
   "metadata": {},
   "outputs": [],
   "source": [
    "disease = \"nf54\""
   ]
  },
  {
   "cell_type": "code",
   "execution_count": 10,
   "id": "bf1ca459",
   "metadata": {},
   "outputs": [],
   "source": [
    "# Load Data\n",
    "if disease == \"nf54\":\n",
    "    PATH = \"../data/dotmatics/series_splits/pf\"\n",
    "    PREDS_PATH = \"../data/predictions/zairachem/series_splits/pf\"\n",
    "    GLOBAL_PATH = os.path.join(PATH, \"plasmodium_NF54\")\n",
    "    SERIES_PATHS = {\n",
    "        \"PPI29\" : os.path.join(PATH, \"PPI29\", \"PPI29_all\"),\n",
    "        \"SFI06\" : os.path.join(PATH, \"SFI06\", \"SFI06_all\"),\n",
    "        \"SFK40\" : os.path.join(PATH, \"SFK40\", \"SFK40_all\"),\n",
    "        \"SFK52\" : os.path.join(PATH, \"SFK52\", \"SFK52_all\"),\n",
    "        \"SFK53\" : os.path.join(PATH, \"SFK53\", \"SFK53_all\"),\n",
    "    }\n",
    "\n",
    "    SERIES = SERIES_PATHS.keys()\n",
    "    TRAINING_POINTS = [\"0\", \"10\", \"30\", \"60\", \"100\"]\n",
    "    folds = 5\n",
    "    cutoff = 0.1\n",
    "    cmap = cmap_1\n",
    "if disease == \"mtb\":\n",
    "    PATH = \"../data/dotmatics/series_splits/mtb\"\n",
    "    PREDS_PATH = \"../data/predictions/zairachem/series_splits/mtb\"\n",
    "    GLOBAL_PATH = GLOBAL_PATH = os.path.join(PATH, \"H3D_mtb_H37Rv_7H9_ADC_GLU_TW\")\n",
    "    SERIES_PATHS = {\n",
    "        \"Indolecarboxamides\" : os.path.join(PATH, \"Indolecarboxamides\", \"Indolecarboxamides_all\"),\n",
    "        \"Quinolines\" : os.path.join(PATH, \"Quinolines\", \"Quinolines_all\"),\n",
    "        \"SFK41\" : os.path.join(PATH, \"SFK41\", \"SFK41_all\"),\n",
    "        \"Spiropyrimidinetriones\" : os.path.join(PATH, \"Spiropyrimidinetriones\", \"Spiropyrimidinetriones_all\"),\n",
    "    }\n",
    "\n",
    "    SERIES = [\"Indolecarboxamides\", \"Quinolines\", \"SFK41\", \"Spiropyrimidinetriones\"]\n",
    "    TRAINING_POINTS = [\"0\", \"10\", \"30\", \"60\", \"100\"]\n",
    "    folds = 5\n",
    "    cutoff = 5.0\n",
    "    cmap = cmap_2"
   ]
  },
  {
   "cell_type": "code",
   "execution_count": 11,
   "id": "f961b7bb",
   "metadata": {},
   "outputs": [],
   "source": [
    "chem_space = PCA_UMAP_preprocess(GLOBAL_PATH, SERIES_PATHS)"
   ]
  },
  {
   "cell_type": "code",
   "execution_count": 22,
   "id": "5364f2ff",
   "metadata": {},
   "outputs": [
    {
     "data": {
      "image/png": "[encoded data removed]",
      "text/plain": [
       "<Figure size 153.297x153.297 with 1 Axes>"
      ]
     },
     "metadata": {},
     "output_type": "display_data"
    }
   ],
   "source": [
    "fig, axs = st.create_figure(1,1, width=TWO_COLUMNS_WIDTH/3.33, height=TWO_COLUMNS_WIDTH/3.33)\n",
    "ax = axs[0]\n",
    "PCA_plot(ax, chem_space, cmap, disease)\n",
    "if disease == \"nf54\":\n",
    "    abc = \"a\"\n",
    "else:\n",
    "    abc = \"e\"\n",
    "st.label(ax=ax, ylabel=\"PC 2\", xlabel=\"PC 1\", title=assay_name[disease], abc=abc)\n",
    "plt.tight_layout()\n",
    "plt.savefig(\"../figures/paper_figures/figure3/pca_{}.pdf\".format(disease))"
   ]
  },
  {
   "cell_type": "code",
   "execution_count": 23,
   "id": "ed67484e",
   "metadata": {},
   "outputs": [
    {
     "data": {
      "image/png": "[encoded data removed]",
      "text/plain": [
       "<Figure size 153.297x153.297 with 1 Axes>"
      ]
     },
     "metadata": {},
     "output_type": "display_data"
    }
   ],
   "source": [
    "fig, axs = st.create_figure(1,1, width=TWO_COLUMNS_WIDTH/3.33, height=TWO_COLUMNS_WIDTH/3.33)\n",
    "ax = axs[0]\n",
    "UMAP_plot(ax, chem_space, cmap, disease)\n",
    "if disease == \"nf54\":\n",
    "    abc = \"b\"\n",
    "else:\n",
    "    abc = \"f\"\n",
    "st.label(ax=ax, ylabel=\"UMAP 2\", xlabel=\"UMAP 1\", title=assay_name[disease], abc=abc)\n",
    "plt.tight_layout()\n",
    "plt.savefig(\"../figures/paper_figures/figure3/umap_{}.pdf\".format(disease))"
   ]
  },
  {
   "cell_type": "code",
   "execution_count": 20,
   "id": "31780e0a",
   "metadata": {},
   "outputs": [
    {
     "data": {
      "image/png": "[encoded data removed]",
      "text/plain": [
       "<Figure size 102.096x153.297 with 1 Axes>"
      ]
     },
     "metadata": {},
     "output_type": "display_data"
    }
   ],
   "source": [
    "fig, axs = st.create_figure(1,1, width=TWO_COLUMNS_WIDTH/5, height=TWO_COLUMNS_WIDTH/3.33)\n",
    "ax = axs[0]\n",
    "all_scores, scores_avg_dict, std_devs_dict = cross_val_data(SERIES, folds, cutoff, TRAINING_POINTS, PATH, PREDS_PATH)\n",
    "training_points(ax, scores_avg_dict, cmap,  TRAINING_POINTS, SERIES)\n",
    "if disease == \"nf54\":\n",
    "    abc = \"c\"\n",
    "else:\n",
    "    abc = \"g\"\n",
    "st.label(ax, title=\"Incremental local training\", xlabel=\"Local training points\", ylabel=\"AUROC\", abc=abc)\n",
    "plt.tight_layout()\n",
    "plt.savefig(\"../figures/paper_figures/figure3/local_{}.pdf\".format(disease))"
   ]
  },
  {
   "cell_type": "code",
   "execution_count": 12,
   "id": "24d83994",
   "metadata": {},
   "outputs": [
    {
     "data": {
      "image/png": "[encoded data removed]",
      "text/plain": [
       "<Figure size 102.096x153.297 with 2 Axes>"
      ]
     },
     "metadata": {},
     "output_type": "display_data"
    }
   ],
   "source": [
    "fig, axs = st.create_figure(1,1, width=TWO_COLUMNS_WIDTH/5, height=TWO_COLUMNS_WIDTH/3.33)\n",
    "ax = axs[0]\n",
    "all_scores, scores_avg_dict, std_devs_dict = cross_val_data(SERIES, folds, cutoff, TRAINING_POINTS, PATH, PREDS_PATH)\n",
    "auroc_improvement(ax, scores_avg_dict, std_devs_dict, cmap, SERIES, folds)\n",
    "if disease == \"nf54\":\n",
    "    abc = \"d\"\n",
    "else:\n",
    "    abc = \"h\"\n",
    "st.label(ax, title=\"AUROC improvement with global data\", xlabel=\"\", ylabel=\"Delta AUROC (%)\", abc=abc)\n",
    "plt.tight_layout()\n",
    "plt.savefig(\"../figures/paper_figures/figure3/global_{}.pdf\".format(disease))"
   ]
  },
  {
   "cell_type": "code",
   "execution_count": 30,
   "id": "592fa9a1",
   "metadata": {},
   "outputs": [
    {
     "data": {
      "image/png": "[encoded data removed]",
      "text/plain": [
       "<Figure size 510.48x18 with 1 Axes>"
      ]
     },
     "metadata": {},
     "output_type": "display_data"
    }
   ],
   "source": [
    "#placeholder for the legends\n",
    "fig, axs = st.create_figure(1,1, width=TWO_COLUMNS_WIDTH, height=0.25)\n",
    "ax = axs[0]\n",
    "plt.savefig(\"../figures/paper_figures/figure3/legend_placeholder.pdf\")"
   ]
  },
  {
   "cell_type": "code",
   "execution_count": null,
   "id": "9b320ccb",
   "metadata": {},
   "outputs": [],
   "source": []
  }
 ],
 "metadata": {
  "kernelspec": {
   "display_name": "Python 3.7.11 ('chemistry')",
   "language": "python",
   "name": "python3"
  },
  "language_info": {
   "codemirror_mode": {
    "name": "ipython",
    "version": 3
   },
   "file_extension": ".py",
   "mimetype": "text/x-python",
   "name": "python",
   "nbconvert_exporter": "python",
   "pygments_lexer": "ipython3",
   "version": "3.7.11"
  },
  "vscode": {
   "interpreter": {
    "hash": "a5ba2f1452682855ccf4135cb16ab3fe285c3388d1e3e2e119f7a866d80e2677"
   }
  }
 },
 "nbformat": 4,
 "nbformat_minor": 5
}
